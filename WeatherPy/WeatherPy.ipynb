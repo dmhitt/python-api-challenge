{
 "cells": [
  {
   "cell_type": "markdown",
   "metadata": {},
   "source": [
    "# WeatherPy\n",
    "----\n",
    "\n",
    "#### Observations\n",
    "* The closest the city is to the equator, the highest is the max temperature for most of the cities.\n",
    "* There is a strong correlation between temperature and latitude for the northern and southern hemispheres.\n",
    "* For the northern and southern hemispheres, there are weak collections between latitude and cloudiness, latitude and wind speed, and latitude and humidity.\n"
   ]
  },
  {
   "cell_type": "code",
   "execution_count": 1,
   "metadata": {
    "scrolled": true
   },
   "outputs": [],
   "source": [
    "# Dependencies and Setup\n",
    "import matplotlib.pyplot as plt\n",
    "import pandas as pd\n",
    "import numpy as np\n",
    "import requests\n",
    "import time\n",
    "from scipy.stats import linregress\n",
    "import json\n",
    "from datetime import datetime\n",
    "\n",
    "# Import API key\n",
    "from api_keys import weather_api_key\n",
    "\n",
    "# Incorporated citipy to determine city based on latitude and longitude\n",
    "from citipy import citipy\n",
    "\n",
    "# Output File (CSV)\n",
    "output_data_file = \"../output_data/cities.csv\"\n",
    "\n",
    "# Range of latitudes and longitudes\n",
    "lat_range = (-90, 90)\n",
    "lng_range = (-180, 180)"
   ]
  },
  {
   "cell_type": "markdown",
   "metadata": {},
   "source": [
    "## Generate Cities List"
   ]
  },
  {
   "cell_type": "code",
   "execution_count": 2,
   "metadata": {},
   "outputs": [
    {
     "data": {
      "text/plain": [
       "611"
      ]
     },
     "execution_count": 2,
     "metadata": {},
     "output_type": "execute_result"
    }
   ],
   "source": [
    "# List for holding lat_lngs and cities\n",
    "lat_lngs = []\n",
    "cities = []\n",
    "\n",
    "# Create a set of random lat and lng combinations\n",
    "lats = np.random.uniform(lat_range[0], lat_range[1], size=1500)\n",
    "lngs = np.random.uniform(lng_range[0], lng_range[1], size=1500)\n",
    "lat_lngs = zip(lats, lngs)\n",
    "\n",
    "# Identify nearest city for each lat, lng combination\n",
    "for lat_lng in lat_lngs:\n",
    "    city = citipy.nearest_city(lat_lng[0], lat_lng[1]).city_name\n",
    "    \n",
    "    # If the city is unique, then add it to a our cities list\n",
    "    if city not in cities:\n",
    "        cities.append(city)\n",
    "\n",
    "# Print the city count to confirm sufficient count\n",
    "len(cities)"
   ]
  },
  {
   "cell_type": "markdown",
   "metadata": {},
   "source": [
    "### Perform API Calls\n",
    "* Perform a weather check on each city using a series of successive API calls.\n",
    "* Include a print log of each city as it'sbeing processed (with the city number and city name).\n"
   ]
  },
  {
   "cell_type": "code",
   "execution_count": 3,
   "metadata": {
    "scrolled": true
   },
   "outputs": [
    {
     "name": "stdout",
     "output_type": "stream",
     "text": [
      "Processing Record 1 of set 1 | coihaique\n",
      "Processing Record 2 of set 1 | punta arenas\n",
      "Processing Record 3 of set 1 | mataura\n",
      "Processing Record 4 of set 1 | bengkulu\n",
      "Processing Record 5 of set 1 | cape town\n",
      "Processing Record 6 of set 1 | port alfred\n",
      "Processing Record 7 of set 1 | new norfolk\n",
      "Processing Record 8 of set 1 | lahat\n",
      "Processing Record 9 of set 1 | vaini\n",
      "City not found. Skipping...\n",
      "City not found. Skipping...\n",
      "Processing Record 10 of set 1 | khatanga\n",
      "Processing Record 11 of set 1 | ponta do sol\n",
      "Processing Record 12 of set 1 | cayenne\n",
      "Processing Record 13 of set 1 | lorengau\n",
      "City not found. Skipping...\n",
      "Processing Record 14 of set 1 | arraial do cabo\n",
      "City not found. Skipping...\n",
      "Processing Record 15 of set 1 | bluff\n",
      "Processing Record 16 of set 1 | pisco\n",
      "City not found. Skipping...\n",
      "Processing Record 17 of set 1 | busselton\n",
      "City not found. Skipping...\n",
      "Processing Record 18 of set 1 | atuona\n",
      "Processing Record 19 of set 1 | namibe\n",
      "Processing Record 20 of set 1 | provideniya\n",
      "Processing Record 21 of set 1 | rikitea\n",
      "Processing Record 22 of set 1 | hailar\n",
      "Processing Record 23 of set 1 | tuktoyaktuk\n",
      "City not found. Skipping...\n",
      "Processing Record 24 of set 1 | antofagasta\n",
      "Processing Record 25 of set 1 | pasighat\n",
      "Processing Record 26 of set 1 | aksarka\n",
      "Processing Record 27 of set 1 | lata\n",
      "Processing Record 28 of set 1 | port elizabeth\n",
      "Processing Record 29 of set 1 | barrow\n",
      "Processing Record 30 of set 1 | nioro\n",
      "Processing Record 31 of set 1 | georgetown\n",
      "Processing Record 32 of set 1 | morgan city\n",
      "Processing Record 33 of set 1 | matagami\n",
      "City not found. Skipping...\n",
      "Processing Record 34 of set 1 | mahibadhoo\n",
      "Processing Record 35 of set 1 | hermanus\n",
      "Processing Record 36 of set 1 | tuatapere\n",
      "City not found. Skipping...\n",
      "Processing Record 37 of set 1 | gangarampur\n",
      "Processing Record 38 of set 1 | adrar\n",
      "Processing Record 39 of set 1 | barmer\n",
      "Processing Record 40 of set 1 | karakol\n",
      "Processing Record 41 of set 1 | grindavik\n",
      "Processing Record 42 of set 1 | la ronge\n",
      "Processing Record 43 of set 1 | carnarvon\n",
      "City not found. Skipping...\n",
      "Processing Record 44 of set 1 | avarua\n",
      "Processing Record 45 of set 1 | kapaa\n",
      "Processing Record 46 of set 1 | thompson\n",
      "Processing Record 47 of set 1 | bayan\n",
      "Processing Record 48 of set 1 | ushuaia\n",
      "Processing Record 49 of set 1 | karratha\n",
      "Processing Record 50 of set 1 | souillac\n",
      "Processing Record 1 of set 2 | vigrestad\n",
      "Processing Record 2 of set 2 | bethel\n",
      "Processing Record 3 of set 2 | pokosnoye\n",
      "Processing Record 4 of set 2 | uruzgan\n",
      "Processing Record 5 of set 2 | pitimbu\n",
      "Processing Record 6 of set 2 | shenjiamen\n",
      "Processing Record 7 of set 2 | susangerd\n",
      "Processing Record 8 of set 2 | isla mujeres\n",
      "Processing Record 9 of set 2 | severo-kurilsk\n",
      "Processing Record 10 of set 2 | airai\n",
      "Processing Record 11 of set 2 | san quintin\n",
      "Processing Record 12 of set 2 | kisanga\n",
      "Processing Record 13 of set 2 | bredasdorp\n",
      "Processing Record 14 of set 2 | praia da vitoria\n",
      "Processing Record 15 of set 2 | albany\n",
      "Processing Record 16 of set 2 | lebu\n",
      "Processing Record 17 of set 2 | xiaoyi\n",
      "Processing Record 18 of set 2 | kupino\n",
      "Processing Record 19 of set 2 | bambous virieux\n",
      "Processing Record 20 of set 2 | sioux lookout\n",
      "Processing Record 21 of set 2 | jamestown\n",
      "Processing Record 22 of set 2 | meulaboh\n",
      "Processing Record 23 of set 2 | victoria\n",
      "Processing Record 24 of set 2 | inverness\n",
      "Processing Record 25 of set 2 | beringovskiy\n",
      "Processing Record 26 of set 2 | hendrina\n",
      "Processing Record 27 of set 2 | upernavik\n",
      "Processing Record 28 of set 2 | sept-iles\n",
      "Processing Record 29 of set 2 | champasak\n",
      "Processing Record 30 of set 2 | mangai\n",
      "Processing Record 31 of set 2 | east london\n",
      "City not found. Skipping...\n",
      "Processing Record 32 of set 2 | atambua\n",
      "Processing Record 33 of set 2 | castro\n",
      "Processing Record 34 of set 2 | dikson\n",
      "Processing Record 35 of set 2 | qaanaaq\n",
      "Processing Record 36 of set 2 | unai\n",
      "Processing Record 37 of set 2 | saint-augustin\n",
      "City not found. Skipping...\n",
      "Processing Record 38 of set 2 | yangjiang\n",
      "Processing Record 39 of set 2 | linqiong\n",
      "Processing Record 40 of set 2 | flinders\n",
      "Processing Record 41 of set 2 | aklavik\n",
      "Processing Record 42 of set 2 | tiksi\n",
      "Processing Record 43 of set 2 | saint-philippe\n",
      "Processing Record 44 of set 2 | kaitangata\n",
      "Processing Record 45 of set 2 | ola\n",
      "Processing Record 46 of set 2 | tasiilaq\n",
      "Processing Record 47 of set 2 | viedma\n",
      "Processing Record 48 of set 2 | bhimunipatnam\n",
      "Processing Record 49 of set 2 | hobart\n",
      "Processing Record 50 of set 2 | oancea\n",
      "Processing Record 1 of set 3 | zhangye\n",
      "Processing Record 2 of set 3 | siedlce\n",
      "Processing Record 3 of set 3 | faanui\n",
      "Processing Record 4 of set 3 | noshiro\n",
      "Processing Record 5 of set 3 | kavieng\n",
      "Processing Record 6 of set 3 | luancheng\n",
      "Processing Record 7 of set 3 | saint-pierre\n",
      "Processing Record 8 of set 3 | salalah\n",
      "Processing Record 9 of set 3 | ossora\n",
      "City not found. Skipping...\n",
      "Processing Record 10 of set 3 | sorong\n",
      "Processing Record 11 of set 3 | mantua\n",
      "Processing Record 12 of set 3 | kuytun\n",
      "Processing Record 13 of set 3 | dzaoudzi\n",
      "Processing Record 14 of set 3 | hambantota\n",
      "City not found. Skipping...\n",
      "Processing Record 15 of set 3 | yellowknife\n",
      "Processing Record 16 of set 3 | wattegama\n",
      "Processing Record 17 of set 3 | senanga\n",
      "Processing Record 18 of set 3 | butaritari\n",
      "Processing Record 19 of set 3 | ahar\n",
      "Processing Record 20 of set 3 | leningradskiy\n",
      "Processing Record 21 of set 3 | nikolskoye\n",
      "Processing Record 22 of set 3 | upata\n",
      "Processing Record 23 of set 3 | hithadhoo\n",
      "Processing Record 24 of set 3 | salto de agua\n",
      "Processing Record 25 of set 3 | puerto ayora\n",
      "Processing Record 26 of set 3 | longyearbyen\n",
      "Processing Record 27 of set 3 | codrington\n",
      "Processing Record 28 of set 3 | goma\n",
      "Processing Record 29 of set 3 | san cristobal\n",
      "Processing Record 30 of set 3 | katsuura\n",
      "Processing Record 31 of set 3 | bilma\n",
      "Processing Record 32 of set 3 | strezhevoy\n",
      "Processing Record 33 of set 3 | coquimbo\n",
      "Processing Record 34 of set 3 | chuy\n",
      "Processing Record 35 of set 3 | dargaville\n",
      "Processing Record 36 of set 3 | sangar\n",
      "Processing Record 37 of set 3 | mangrol\n",
      "Processing Record 38 of set 3 | belem\n",
      "Processing Record 39 of set 3 | kodiak\n",
      "Processing Record 40 of set 3 | mahebourg\n",
      "Processing Record 41 of set 3 | bukene\n",
      "Processing Record 42 of set 3 | tahe\n",
      "City not found. Skipping...\n",
      "Processing Record 43 of set 3 | college\n",
      "City not found. Skipping...\n",
      "Processing Record 44 of set 3 | manggar\n",
      "Processing Record 45 of set 3 | butembo\n",
      "Processing Record 46 of set 3 | tsabong\n",
      "Processing Record 47 of set 3 | hualmay\n",
      "Processing Record 48 of set 3 | bambanglipuro\n",
      "Processing Record 49 of set 3 | pevek\n",
      "Processing Record 50 of set 3 | belaya gora\n",
      "Processing Record 1 of set 4 | ribeira grande\n",
      "City not found. Skipping...\n",
      "Processing Record 2 of set 4 | shellbrook\n",
      "Processing Record 3 of set 4 | sumbe\n",
      "Processing Record 4 of set 4 | olafsvik\n",
      "Processing Record 5 of set 4 | veraval\n",
      "Processing Record 6 of set 4 | kaffrine\n",
      "Processing Record 7 of set 4 | pau brasil\n",
      "City not found. Skipping...\n",
      "Processing Record 8 of set 4 | nouadhibou\n",
      "Processing Record 9 of set 4 | ningxiang\n",
      "Processing Record 10 of set 4 | mende\n",
      "Processing Record 11 of set 4 | chokurdakh\n",
      "Processing Record 12 of set 4 | cidreira\n",
      "Processing Record 13 of set 4 | jalu\n",
      "Processing Record 14 of set 4 | hounde\n",
      "Processing Record 15 of set 4 | dudinka\n",
      "Processing Record 16 of set 4 | port lincoln\n",
      "Processing Record 17 of set 4 | acajutla\n",
      "Processing Record 18 of set 4 | oyama\n",
      "Processing Record 19 of set 4 | strathroy\n",
      "Processing Record 20 of set 4 | hamilton\n",
      "Processing Record 21 of set 4 | timizart\n",
      "Processing Record 22 of set 4 | cherskiy\n",
      "Processing Record 23 of set 4 | joshimath\n",
      "Processing Record 24 of set 4 | rawson\n",
      "Processing Record 25 of set 4 | dongsheng\n",
      "Processing Record 26 of set 4 | buin\n",
      "Processing Record 27 of set 4 | byron bay\n",
      "City not found. Skipping...\n",
      "Processing Record 28 of set 4 | houston\n",
      "Processing Record 29 of set 4 | hare bay\n",
      "Processing Record 30 of set 4 | casian\n",
      "Processing Record 31 of set 4 | muli\n",
      "City not found. Skipping...\n",
      "City not found. Skipping...\n",
      "Processing Record 32 of set 4 | ilulissat\n",
      "City not found. Skipping...\n",
      "City not found. Skipping...\n",
      "Processing Record 33 of set 4 | manaquiri\n",
      "Processing Record 34 of set 4 | narsaq\n",
      "Processing Record 35 of set 4 | kasongo-lunda\n"
     ]
    },
    {
     "name": "stdout",
     "output_type": "stream",
     "text": [
      "Processing Record 36 of set 4 | flin flon\n",
      "Processing Record 37 of set 4 | sikasso\n",
      "Processing Record 38 of set 4 | karasjok\n",
      "Processing Record 39 of set 4 | omboue\n",
      "Processing Record 40 of set 4 | takoradi\n",
      "Processing Record 41 of set 4 | santa isabel do rio negro\n",
      "City not found. Skipping...\n",
      "Processing Record 42 of set 4 | egvekinot\n",
      "Processing Record 43 of set 4 | nenjiang\n",
      "City not found. Skipping...\n",
      "Processing Record 44 of set 4 | bardiyah\n",
      "Processing Record 45 of set 4 | guadalupe y calvo\n",
      "Processing Record 46 of set 4 | nanortalik\n",
      "Processing Record 47 of set 4 | sambava\n",
      "Processing Record 48 of set 4 | nome\n",
      "City not found. Skipping...\n",
      "Processing Record 49 of set 4 | laguna\n",
      "Processing Record 50 of set 4 | bonavista\n",
      "Processing Record 1 of set 5 | grand gaube\n",
      "Processing Record 2 of set 5 | san juan\n",
      "Processing Record 3 of set 5 | hilo\n",
      "Processing Record 4 of set 5 | zhigansk\n",
      "Processing Record 5 of set 5 | ostrovnoy\n",
      "Processing Record 6 of set 5 | lompoc\n",
      "Processing Record 7 of set 5 | saskylakh\n",
      "Processing Record 8 of set 5 | gomel\n",
      "Processing Record 9 of set 5 | luderitz\n",
      "Processing Record 10 of set 5 | mangan\n",
      "Processing Record 11 of set 5 | atherton\n",
      "Processing Record 12 of set 5 | saint george\n",
      "Processing Record 13 of set 5 | taltal\n",
      "Processing Record 14 of set 5 | eureka\n",
      "Processing Record 15 of set 5 | sawakin\n",
      "Processing Record 16 of set 5 | myaundzha\n",
      "Processing Record 17 of set 5 | akil\n",
      "Processing Record 18 of set 5 | dwarka\n",
      "Processing Record 19 of set 5 | langarud\n",
      "Processing Record 20 of set 5 | mackay\n",
      "Processing Record 21 of set 5 | opuwo\n",
      "Processing Record 22 of set 5 | rincon\n",
      "Processing Record 23 of set 5 | doctor juan leon mallorquin\n",
      "Processing Record 24 of set 5 | poum\n",
      "Processing Record 25 of set 5 | upington\n",
      "Processing Record 26 of set 5 | goundam\n",
      "Processing Record 27 of set 5 | vao\n",
      "Processing Record 28 of set 5 | pareora\n",
      "Processing Record 29 of set 5 | kibaha\n",
      "Processing Record 30 of set 5 | santa cruz\n",
      "Processing Record 31 of set 5 | san jose iturbide\n",
      "Processing Record 32 of set 5 | avera\n",
      "Processing Record 33 of set 5 | faya\n",
      "Processing Record 34 of set 5 | anori\n",
      "City not found. Skipping...\n",
      "Processing Record 35 of set 5 | mar del plata\n",
      "City not found. Skipping...\n",
      "Processing Record 36 of set 5 | peremyshlyany\n",
      "Processing Record 37 of set 5 | jagannathpur\n",
      "Processing Record 38 of set 5 | ardesen\n",
      "Processing Record 39 of set 5 | suntar\n",
      "Processing Record 40 of set 5 | iqaluit\n",
      "City not found. Skipping...\n",
      "Processing Record 41 of set 5 | atasu\n",
      "Processing Record 42 of set 5 | umea\n",
      "Processing Record 43 of set 5 | mahon\n",
      "City not found. Skipping...\n",
      "City not found. Skipping...\n",
      "Processing Record 44 of set 5 | brae\n",
      "Processing Record 45 of set 5 | lithgow\n",
      "Processing Record 46 of set 5 | chicama\n",
      "Processing Record 47 of set 5 | goderich\n",
      "Processing Record 48 of set 5 | tyukhtet\n",
      "Processing Record 49 of set 5 | fomboni\n",
      "Processing Record 50 of set 5 | safita\n",
      "Processing Record 1 of set 6 | caravelas\n",
      "Processing Record 2 of set 6 | shwebo\n",
      "Processing Record 3 of set 6 | soddy-daisy\n",
      "Processing Record 4 of set 6 | celestun\n",
      "Processing Record 5 of set 6 | naze\n",
      "Processing Record 6 of set 6 | saint anthony\n",
      "Processing Record 7 of set 6 | nishihara\n",
      "Processing Record 8 of set 6 | krasnoselkup\n",
      "Processing Record 9 of set 6 | matay\n",
      "Processing Record 10 of set 6 | archidona\n",
      "Processing Record 11 of set 6 | sao joao da barra\n",
      "Processing Record 12 of set 6 | richards bay\n",
      "Processing Record 13 of set 6 | amazar\n",
      "Processing Record 14 of set 6 | andenes\n",
      "Processing Record 15 of set 6 | isangel\n",
      "Processing Record 16 of set 6 | porto velho\n",
      "Processing Record 17 of set 6 | megion\n",
      "Processing Record 18 of set 6 | alexandria\n",
      "Processing Record 19 of set 6 | shache\n",
      "Processing Record 20 of set 6 | itarema\n",
      "Processing Record 21 of set 6 | hasaki\n",
      "Processing Record 22 of set 6 | kahului\n",
      "Processing Record 23 of set 6 | torbay\n",
      "Processing Record 24 of set 6 | malaya purga\n",
      "Processing Record 25 of set 6 | malakal\n",
      "Processing Record 26 of set 6 | kumbo\n",
      "Processing Record 27 of set 6 | jaszkiser\n",
      "Processing Record 28 of set 6 | nisia floresta\n",
      "Processing Record 29 of set 6 | bitung\n",
      "Processing Record 30 of set 6 | kruisfontein\n",
      "Processing Record 31 of set 6 | ashqelon\n",
      "Processing Record 32 of set 6 | hammerfest\n",
      "Processing Record 33 of set 6 | klaksvik\n",
      "Processing Record 34 of set 6 | yazman\n",
      "Processing Record 35 of set 6 | longyan\n",
      "Processing Record 36 of set 6 | lakhipur\n",
      "Processing Record 37 of set 6 | kuala terengganu\n",
      "Processing Record 38 of set 6 | fairbanks\n",
      "Processing Record 39 of set 6 | shimoda\n",
      "Processing Record 40 of set 6 | russell\n",
      "Processing Record 41 of set 6 | kilindoni\n",
      "Processing Record 42 of set 6 | jeremie\n",
      "City not found. Skipping...\n",
      "Processing Record 43 of set 6 | san patricio\n",
      "Processing Record 44 of set 6 | severobaykalsk\n",
      "City not found. Skipping...\n",
      "Processing Record 45 of set 6 | praia\n",
      "Processing Record 46 of set 6 | krasnyy chikoy\n",
      "Processing Record 47 of set 6 | geraldton\n",
      "Processing Record 48 of set 6 | shizukuishi\n",
      "Processing Record 49 of set 6 | ulaanbaatar\n",
      "City not found. Skipping...\n",
      "Processing Record 50 of set 6 | lasa\n",
      "Processing Record 1 of set 7 | srednekolymsk\n",
      "Processing Record 2 of set 7 | cap malheureux\n",
      "City not found. Skipping...\n",
      "Processing Record 3 of set 7 | ayagoz\n",
      "Processing Record 4 of set 7 | zima\n",
      "Processing Record 5 of set 7 | asau\n",
      "Processing Record 6 of set 7 | weyburn\n",
      "Processing Record 7 of set 7 | solnechnyy\n",
      "Processing Record 8 of set 7 | verkhnevilyuysk\n",
      "Processing Record 9 of set 7 | fort nelson\n",
      "Processing Record 10 of set 7 | nakhon thai\n",
      "Processing Record 11 of set 7 | kirgiz-miyaki\n",
      "City not found. Skipping...\n",
      "Processing Record 12 of set 7 | freeport\n",
      "Processing Record 13 of set 7 | acarau\n",
      "Processing Record 14 of set 7 | pochutla\n",
      "Processing Record 15 of set 7 | twentynine palms\n",
      "Processing Record 16 of set 7 | zaigrayevo\n",
      "Processing Record 17 of set 7 | gigmoto\n",
      "Processing Record 18 of set 7 | bayir\n",
      "Processing Record 19 of set 7 | tyulgan\n",
      "Processing Record 20 of set 7 | acapulco\n",
      "Processing Record 21 of set 7 | kupang\n",
      "Processing Record 22 of set 7 | cabedelo\n",
      "Processing Record 23 of set 7 | high level\n",
      "Processing Record 24 of set 7 | abbeville\n",
      "Processing Record 25 of set 7 | guerrero negro\n",
      "Processing Record 26 of set 7 | makakilo city\n",
      "Processing Record 27 of set 7 | sungaipenuh\n",
      "Processing Record 28 of set 7 | mao\n",
      "Processing Record 29 of set 7 | antalaha\n",
      "Processing Record 30 of set 7 | bandarbeyla\n",
      "Processing Record 31 of set 7 | casas grandes\n",
      "Processing Record 32 of set 7 | cabo san lucas\n",
      "Processing Record 33 of set 7 | turayf\n",
      "Processing Record 34 of set 7 | nizwa\n",
      "Processing Record 35 of set 7 | quatre cocos\n",
      "Processing Record 36 of set 7 | carutapera\n",
      "Processing Record 37 of set 7 | port hedland\n",
      "Processing Record 38 of set 7 | kavaratti\n",
      "Processing Record 39 of set 7 | ilhabela\n",
      "Processing Record 40 of set 7 | mercedes\n",
      "Processing Record 41 of set 7 | xichang\n",
      "Processing Record 42 of set 7 | talnakh\n",
      "City not found. Skipping...\n",
      "Processing Record 43 of set 7 | honiara\n",
      "Processing Record 44 of set 7 | norman wells\n",
      "Processing Record 45 of set 7 | neiafu\n",
      "Processing Record 46 of set 7 | port hardy\n",
      "Processing Record 47 of set 7 | kudahuvadhoo\n",
      "City not found. Skipping...\n",
      "Processing Record 48 of set 7 | fortuna\n",
      "Processing Record 49 of set 7 | vanimo\n",
      "Processing Record 50 of set 7 | kidal\n",
      "Processing Record 1 of set 8 | muros\n",
      "Processing Record 2 of set 8 | raudeberg\n",
      "Processing Record 3 of set 8 | marzuq\n",
      "Processing Record 4 of set 8 | sisimiut\n",
      "City not found. Skipping...\n",
      "Processing Record 5 of set 8 | hobyo\n",
      "Processing Record 6 of set 8 | coahuayana\n",
      "Processing Record 7 of set 8 | westport\n",
      "Processing Record 8 of set 8 | toktogul\n",
      "Processing Record 9 of set 8 | pasil\n",
      "Processing Record 10 of set 8 | madimba\n",
      "Processing Record 11 of set 8 | quelimane\n",
      "Processing Record 12 of set 8 | manjacaze\n",
      "Processing Record 13 of set 8 | kazachinskoye\n",
      "Processing Record 14 of set 8 | mugur-aksy\n",
      "City not found. Skipping...\n",
      "Processing Record 15 of set 8 | taywarah\n",
      "Processing Record 16 of set 8 | padang\n",
      "Processing Record 17 of set 8 | vung tau\n",
      "Processing Record 18 of set 8 | henties bay\n",
      "Processing Record 19 of set 8 | korla\n",
      "City not found. Skipping...\n",
      "Processing Record 20 of set 8 | urucara\n",
      "Processing Record 21 of set 8 | louis trichardt\n",
      "Processing Record 22 of set 8 | chengde\n"
     ]
    },
    {
     "name": "stdout",
     "output_type": "stream",
     "text": [
      "Processing Record 23 of set 8 | nchelenge\n",
      "Processing Record 24 of set 8 | bilibino\n",
      "Processing Record 25 of set 8 | kindu\n",
      "Processing Record 26 of set 8 | caxito\n",
      "Processing Record 27 of set 8 | kendari\n",
      "Processing Record 28 of set 8 | chute-aux-outardes\n",
      "Processing Record 29 of set 8 | sola\n",
      "Processing Record 30 of set 8 | vila franca do campo\n",
      "Processing Record 31 of set 8 | mazamari\n",
      "Processing Record 32 of set 8 | bandarban\n",
      "Processing Record 33 of set 8 | vestmannaeyjar\n",
      "Processing Record 34 of set 8 | mareeba\n",
      "Processing Record 35 of set 8 | fukue\n",
      "Processing Record 36 of set 8 | gao\n",
      "Processing Record 37 of set 8 | lodwar\n",
      "Processing Record 38 of set 8 | lavrentiya\n",
      "Processing Record 39 of set 8 | semnan\n",
      "Processing Record 40 of set 8 | mala tokmachka\n",
      "Processing Record 41 of set 8 | hervey bay\n",
      "Processing Record 42 of set 8 | rio grande\n",
      "Processing Record 43 of set 8 | xuanhua\n",
      "Processing Record 44 of set 8 | mount isa\n",
      "Processing Record 45 of set 8 | mount gambier\n",
      "Processing Record 46 of set 8 | broken hill\n",
      "Processing Record 47 of set 8 | san policarpo\n",
      "Processing Record 48 of set 8 | puerto colombia\n",
      "Processing Record 49 of set 8 | manakara\n",
      "Processing Record 50 of set 8 | los llanos de aridane\n",
      "Processing Record 1 of set 9 | pacifica\n",
      "Processing Record 2 of set 9 | ereymentau\n",
      "Processing Record 3 of set 9 | sechura\n",
      "Processing Record 4 of set 9 | vardo\n",
      "Processing Record 5 of set 9 | kalmunai\n",
      "Processing Record 6 of set 9 | ensenada\n",
      "Processing Record 7 of set 9 | port-gentil\n",
      "Processing Record 8 of set 9 | clyde river\n",
      "Processing Record 9 of set 9 | poso\n",
      "Processing Record 10 of set 9 | dickinson\n",
      "Processing Record 11 of set 9 | sistranda\n",
      "Processing Record 12 of set 9 | uberaba\n",
      "Processing Record 13 of set 9 | lagoa\n",
      "Processing Record 14 of set 9 | maxixe\n",
      "Processing Record 15 of set 9 | jos\n",
      "Processing Record 16 of set 9 | blagoyevo\n",
      "Processing Record 17 of set 9 | ust-nera\n",
      "Processing Record 18 of set 9 | preobrazheniye\n",
      "Processing Record 19 of set 9 | betanzos\n",
      "Processing Record 20 of set 9 | igunga\n",
      "Processing Record 21 of set 9 | general roca\n",
      "Processing Record 22 of set 9 | pangoa\n",
      "Processing Record 23 of set 9 | joniskis\n",
      "Processing Record 24 of set 9 | vuktyl\n",
      "Processing Record 25 of set 9 | yuanli\n",
      "Processing Record 26 of set 9 | tamandare\n",
      "Processing Record 27 of set 9 | montlucon\n",
      "Processing Record 28 of set 9 | ancud\n",
      "Processing Record 29 of set 9 | rochefort\n",
      "Processing Record 30 of set 9 | haines junction\n",
      "Processing Record 31 of set 9 | chagoda\n",
      "Processing Record 32 of set 9 | raghunathpur\n",
      "Processing Record 33 of set 9 | okhotsk\n",
      "Processing Record 34 of set 9 | berlevag\n",
      "Processing Record 35 of set 9 | lircay\n",
      "Processing Record 36 of set 9 | tigil\n",
      "Processing Record 37 of set 9 | verkhnetulomskiy\n",
      "Processing Record 38 of set 9 | alofi\n",
      "Processing Record 39 of set 9 | kathu\n",
      "Processing Record 40 of set 9 | mehamn\n",
      "Processing Record 41 of set 9 | xining\n",
      "Processing Record 42 of set 9 | san jose\n",
      "Processing Record 43 of set 9 | gambela\n",
      "Processing Record 44 of set 9 | esperance\n",
      "Processing Record 45 of set 9 | dalhousie\n",
      "Processing Record 46 of set 9 | sao filipe\n",
      "Processing Record 47 of set 9 | rorvik\n",
      "Processing Record 48 of set 9 | the valley\n",
      "Processing Record 49 of set 9 | vredendal\n",
      "Processing Record 50 of set 9 | grand-santi\n",
      "Processing Record 1 of set 10 | letlhakane\n",
      "Processing Record 2 of set 10 | mnogovershinnyy\n",
      "Processing Record 3 of set 10 | swellendam\n",
      "Processing Record 4 of set 10 | anadyr\n",
      "Processing Record 5 of set 10 | hami\n",
      "Processing Record 6 of set 10 | shirgaon\n",
      "Processing Record 7 of set 10 | touros\n",
      "Processing Record 8 of set 10 | cockburn town\n",
      "Processing Record 9 of set 10 | tautira\n",
      "Processing Record 10 of set 10 | binzhou\n",
      "Processing Record 11 of set 10 | banepa\n",
      "Processing Record 12 of set 10 | kirakira\n",
      "Processing Record 13 of set 10 | bowen\n",
      "City not found. Skipping...\n",
      "Processing Record 14 of set 10 | boende\n",
      "Processing Record 15 of set 10 | marawi\n",
      "Processing Record 16 of set 10 | ewa beach\n",
      "City not found. Skipping...\n",
      "Processing Record 17 of set 10 | boueni\n",
      "Processing Record 18 of set 10 | kelso\n",
      "Processing Record 19 of set 10 | yatou\n",
      "Processing Record 20 of set 10 | doha\n",
      "Processing Record 21 of set 10 | yumen\n",
      "Processing Record 22 of set 10 | polunochnoye\n",
      "Processing Record 23 of set 10 | mahdalynivka\n",
      "Processing Record 24 of set 10 | bozova\n",
      "Processing Record 25 of set 10 | doka\n",
      "City not found. Skipping...\n",
      "City not found. Skipping...\n",
      "Processing Record 26 of set 10 | kameoka\n",
      "Processing Record 27 of set 10 | baykit\n",
      "Processing Record 28 of set 10 | seoul\n",
      "Processing Record 29 of set 10 | luwuk\n",
      "Processing Record 30 of set 10 | luanda\n",
      "Processing Record 31 of set 10 | talakan\n",
      "Processing Record 32 of set 10 | jiehu\n",
      "City not found. Skipping...\n",
      "Processing Record 33 of set 10 | erechim\n",
      "Processing Record 34 of set 10 | arlit\n",
      "Processing Record 35 of set 10 | hovd\n",
      "Processing Record 36 of set 10 | samarkand\n",
      "City not found. Skipping...\n",
      "Processing Record 37 of set 10 | aksu\n",
      "Processing Record 38 of set 10 | oeiras\n",
      "Processing Record 39 of set 10 | muroto\n",
      "Processing Record 40 of set 10 | salinopolis\n",
      "Processing Record 41 of set 10 | corrente\n",
      "Processing Record 42 of set 10 | namatanai\n",
      "Processing Record 43 of set 10 | pag\n",
      "Processing Record 44 of set 10 | naifaru\n",
      "Processing Record 45 of set 10 | kirovskiy\n",
      "Processing Record 46 of set 10 | juruti\n",
      "Processing Record 47 of set 10 | christchurch\n",
      "Processing Record 48 of set 10 | bakau\n",
      "Processing Record 49 of set 10 | iquique\n",
      "Processing Record 50 of set 10 | moerai\n",
      "Processing Record 1 of set 11 | walvis bay\n",
      "City not found. Skipping...\n",
      "Processing Record 2 of set 11 | saraza\n",
      "Processing Record 3 of set 11 | lomovka\n",
      "Processing Record 4 of set 11 | worthington\n",
      "Processing Record 5 of set 11 | xinxiang\n",
      "Processing Record 6 of set 11 | ikwiriri\n",
      "Processing Record 7 of set 11 | cumana\n",
      "Processing Record 8 of set 11 | tecpan\n",
      "Processing Record 9 of set 11 | bundaberg\n",
      "Processing Record 10 of set 11 | sarkand\n",
      "Processing Record 11 of set 11 | medea\n",
      "Processing Record 12 of set 11 | ahipara\n",
      "Processing Record 13 of set 11 | warrnambool\n",
      "Processing Record 14 of set 11 | roma\n",
      "Processing Record 15 of set 11 | saldanha\n",
      "City not found. Skipping...\n",
      "Processing Record 16 of set 11 | maragogi\n",
      "Processing Record 17 of set 11 | deputatskiy\n",
      "Processing Record 18 of set 11 | ostersund\n",
      "Processing Record 19 of set 11 | trelew\n",
      "Processing Record 20 of set 11 | atar\n",
      "Processing Record 21 of set 11 | diego de almagro\n",
      "Processing Record 22 of set 11 | hornepayne\n",
      "Processing Record 23 of set 11 | mincivan\n",
      "Processing Record 24 of set 11 | rudbar\n",
      "Processing Record 25 of set 11 | penzance\n",
      "Processing Record 26 of set 11 | yar-sale\n",
      "Processing Record 27 of set 11 | obigarm\n",
      "Processing Record 28 of set 11 | shawnee\n",
      "Processing Record 29 of set 11 | abay\n",
      "Processing Record 30 of set 11 | xam nua\n",
      "Processing Record 31 of set 11 | reconquista\n",
      "Processing Record 32 of set 11 | kiunga\n",
      "Processing Record 33 of set 11 | husavik\n",
      "City not found. Skipping...\n",
      "Processing Record 34 of set 11 | dalianwan\n",
      "Processing Record 35 of set 11 | mwinilunga\n",
      "Processing Record 36 of set 11 | alice springs\n",
      "Processing Record 37 of set 11 | halifax\n",
      "Processing Record 38 of set 11 | soligalich\n",
      "Processing Record 39 of set 11 | tilichiki\n",
      "Processing Record 40 of set 11 | teya\n",
      "Processing Record 41 of set 11 | kutum\n",
      "Processing Record 42 of set 11 | iacu\n",
      "Processing Record 43 of set 11 | sokoni\n",
      "Processing Record 44 of set 11 | kombissiri\n",
      "Processing Record 45 of set 11 | port shepstone\n",
      "Processing Record 46 of set 11 | nyrob\n",
      "Processing Record 47 of set 11 | riyadh\n",
      "Processing Record 48 of set 11 | santo antonio do leverger\n",
      "Processing Record 49 of set 11 | broome\n",
      "Processing Record 50 of set 11 | plettenberg bay\n",
      "Processing Record 1 of set 12 | letlhakeng\n",
      "Processing Record 2 of set 12 | yenangyaung\n",
      "Processing Record 3 of set 12 | umm kaddadah\n",
      "Processing Record 4 of set 12 | soron\n",
      "Processing Record 5 of set 12 | batagay\n",
      "Processing Record 6 of set 12 | zyryanka\n",
      "Processing Record 7 of set 12 | dombarovskiy\n",
      "Processing Record 8 of set 12 | tenenkou\n",
      "City not found. Skipping...\n",
      "Processing Record 9 of set 12 | loyga\n",
      "Processing Record 10 of set 12 | southbridge\n"
     ]
    }
   ],
   "source": [
    "cities_found = []\n",
    "lat = []\n",
    "lon = []\n",
    "temp_max = []\n",
    "humidity = []\n",
    "clouds = []\n",
    "wind = []\n",
    "country = []\n",
    "date = []\n",
    "\n",
    "url = \"http://api.openweathermap.org/data/2.5/weather?\"\n",
    "units  = \"imperial\"\n",
    "\n",
    "record_number = 0\n",
    "set_number = 1\n",
    "for city in cities:\n",
    "    query_url = url + \"appid=\" + weather_api_key + \"&q=\" + city + \"&units=\" + units\n",
    "    weather = requests.get(query_url).json()\n",
    "    \n",
    "    try:\n",
    "        lat.append(weather['coord']['lat'])\n",
    "        lon.append(weather['coord']['lon'])\n",
    "        temp_max.append(weather['main']['temp_max'])\n",
    "        humidity.append(weather['main']['humidity'])\n",
    "        clouds.append(weather['clouds']['all'])\n",
    "        wind.append(weather['wind']['speed'])\n",
    "        country.append(weather['sys']['country'])\n",
    "        date.append(weather['dt'])\n",
    "        cities_found.append(city)\n",
    "        record_number += 1\n",
    "        print (f\"Processing Record {record_number} of set {set_number} | {city}\")\n",
    "    except:\n",
    "        print(\"City not found. Skipping...\")\n",
    "        pass\n",
    "    \n",
    "    if record_number == 50:\n",
    "        time.sleep(1)\n",
    "        set_number +=1\n",
    "        record_number = 0\n",
    "    \n",
    "        \n"
   ]
  },
  {
   "cell_type": "code",
   "execution_count": null,
   "metadata": {},
   "outputs": [],
   "source": []
  },
  {
   "cell_type": "markdown",
   "metadata": {},
   "source": [
    "### Convert Raw Data to DataFrame\n",
    "* Export the city data into a .csv.\n",
    "* Display the DataFrame"
   ]
  },
  {
   "cell_type": "code",
   "execution_count": 4,
   "metadata": {},
   "outputs": [
    {
     "data": {
      "text/html": [
       "<div>\n",
       "<style scoped>\n",
       "    .dataframe tbody tr th:only-of-type {\n",
       "        vertical-align: middle;\n",
       "    }\n",
       "\n",
       "    .dataframe tbody tr th {\n",
       "        vertical-align: top;\n",
       "    }\n",
       "\n",
       "    .dataframe thead th {\n",
       "        text-align: right;\n",
       "    }\n",
       "</style>\n",
       "<table border=\"1\" class=\"dataframe\">\n",
       "  <thead>\n",
       "    <tr style=\"text-align: right;\">\n",
       "      <th></th>\n",
       "      <th>City</th>\n",
       "      <th>Lat</th>\n",
       "      <th>Lng</th>\n",
       "      <th>Max_Temp</th>\n",
       "      <th>Humidity</th>\n",
       "      <th>Cloudiness</th>\n",
       "      <th>Wind_Speed</th>\n",
       "      <th>Country</th>\n",
       "      <th>Date</th>\n",
       "    </tr>\n",
       "  </thead>\n",
       "  <tbody>\n",
       "    <tr>\n",
       "      <th>0</th>\n",
       "      <td>coihaique</td>\n",
       "      <td>-45.5752</td>\n",
       "      <td>-72.0662</td>\n",
       "      <td>48.00</td>\n",
       "      <td>95</td>\n",
       "      <td>88</td>\n",
       "      <td>4.70</td>\n",
       "      <td>CL</td>\n",
       "      <td>1619757774</td>\n",
       "    </tr>\n",
       "    <tr>\n",
       "      <th>1</th>\n",
       "      <td>punta arenas</td>\n",
       "      <td>-53.1500</td>\n",
       "      <td>-70.9167</td>\n",
       "      <td>42.80</td>\n",
       "      <td>93</td>\n",
       "      <td>90</td>\n",
       "      <td>5.75</td>\n",
       "      <td>CL</td>\n",
       "      <td>1619757701</td>\n",
       "    </tr>\n",
       "    <tr>\n",
       "      <th>2</th>\n",
       "      <td>mataura</td>\n",
       "      <td>-46.1927</td>\n",
       "      <td>168.8643</td>\n",
       "      <td>53.01</td>\n",
       "      <td>72</td>\n",
       "      <td>24</td>\n",
       "      <td>10.00</td>\n",
       "      <td>NZ</td>\n",
       "      <td>1619757689</td>\n",
       "    </tr>\n",
       "    <tr>\n",
       "      <th>3</th>\n",
       "      <td>bengkulu</td>\n",
       "      <td>-3.8004</td>\n",
       "      <td>102.2655</td>\n",
       "      <td>81.64</td>\n",
       "      <td>78</td>\n",
       "      <td>98</td>\n",
       "      <td>5.66</td>\n",
       "      <td>ID</td>\n",
       "      <td>1619757722</td>\n",
       "    </tr>\n",
       "    <tr>\n",
       "      <th>4</th>\n",
       "      <td>cape town</td>\n",
       "      <td>-33.9258</td>\n",
       "      <td>18.4232</td>\n",
       "      <td>57.99</td>\n",
       "      <td>77</td>\n",
       "      <td>20</td>\n",
       "      <td>12.66</td>\n",
       "      <td>ZA</td>\n",
       "      <td>1619757496</td>\n",
       "    </tr>\n",
       "  </tbody>\n",
       "</table>\n",
       "</div>"
      ],
      "text/plain": [
       "           City      Lat       Lng  Max_Temp  Humidity  Cloudiness  \\\n",
       "0     coihaique -45.5752  -72.0662     48.00        95          88   \n",
       "1  punta arenas -53.1500  -70.9167     42.80        93          90   \n",
       "2       mataura -46.1927  168.8643     53.01        72          24   \n",
       "3      bengkulu  -3.8004  102.2655     81.64        78          98   \n",
       "4     cape town -33.9258   18.4232     57.99        77          20   \n",
       "\n",
       "   Wind_Speed Country        Date  \n",
       "0        4.70      CL  1619757774  \n",
       "1        5.75      CL  1619757701  \n",
       "2       10.00      NZ  1619757689  \n",
       "3        5.66      ID  1619757722  \n",
       "4       12.66      ZA  1619757496  "
      ]
     },
     "execution_count": 4,
     "metadata": {},
     "output_type": "execute_result"
    }
   ],
   "source": [
    "weather_dict = {'City': cities_found,\n",
    "                'Lat' : lat,\n",
    "                'Lng' : lon,\n",
    "                \"Max_Temp\" : temp_max,\n",
    "                \"Humidity\" : humidity,\n",
    "                \"Cloudiness\" : clouds,\n",
    "                \"Wind_Speed\" : wind,\n",
    "                \"Country\" : country,\n",
    "                \"Date\" : date}\n",
    "\n",
    "weather_df = pd.DataFrame(weather_dict)\n",
    "weather_df.to_csv(output_data_file, index_label='City_ID', header=True)\n",
    "weather_df.head()"
   ]
  },
  {
   "cell_type": "code",
   "execution_count": 5,
   "metadata": {},
   "outputs": [
    {
     "data": {
      "text/html": [
       "<div>\n",
       "<style scoped>\n",
       "    .dataframe tbody tr th:only-of-type {\n",
       "        vertical-align: middle;\n",
       "    }\n",
       "\n",
       "    .dataframe tbody tr th {\n",
       "        vertical-align: top;\n",
       "    }\n",
       "\n",
       "    .dataframe thead th {\n",
       "        text-align: right;\n",
       "    }\n",
       "</style>\n",
       "<table border=\"1\" class=\"dataframe\">\n",
       "  <thead>\n",
       "    <tr style=\"text-align: right;\">\n",
       "      <th></th>\n",
       "      <th>Lat</th>\n",
       "      <th>Lng</th>\n",
       "      <th>Max_Temp</th>\n",
       "      <th>Humidity</th>\n",
       "      <th>Cloudiness</th>\n",
       "      <th>Wind_Speed</th>\n",
       "      <th>Date</th>\n",
       "    </tr>\n",
       "  </thead>\n",
       "  <tbody>\n",
       "    <tr>\n",
       "      <th>count</th>\n",
       "      <td>560.000000</td>\n",
       "      <td>560.000000</td>\n",
       "      <td>560.000000</td>\n",
       "      <td>560.000000</td>\n",
       "      <td>560.000000</td>\n",
       "      <td>560.000000</td>\n",
       "      <td>5.600000e+02</td>\n",
       "    </tr>\n",
       "    <tr>\n",
       "      <th>mean</th>\n",
       "      <td>19.793239</td>\n",
       "      <td>24.165898</td>\n",
       "      <td>62.509768</td>\n",
       "      <td>69.042857</td>\n",
       "      <td>53.008929</td>\n",
       "      <td>7.258518</td>\n",
       "      <td>1.619758e+09</td>\n",
       "    </tr>\n",
       "    <tr>\n",
       "      <th>std</th>\n",
       "      <td>33.259676</td>\n",
       "      <td>88.991416</td>\n",
       "      <td>19.037508</td>\n",
       "      <td>22.978989</td>\n",
       "      <td>38.093308</td>\n",
       "      <td>4.814163</td>\n",
       "      <td>9.710903e+01</td>\n",
       "    </tr>\n",
       "    <tr>\n",
       "      <th>min</th>\n",
       "      <td>-54.800000</td>\n",
       "      <td>-179.166700</td>\n",
       "      <td>13.780000</td>\n",
       "      <td>7.000000</td>\n",
       "      <td>0.000000</td>\n",
       "      <td>0.220000</td>\n",
       "      <td>1.619757e+09</td>\n",
       "    </tr>\n",
       "    <tr>\n",
       "      <th>25%</th>\n",
       "      <td>-8.111775</td>\n",
       "      <td>-53.201425</td>\n",
       "      <td>48.182500</td>\n",
       "      <td>58.000000</td>\n",
       "      <td>15.000000</td>\n",
       "      <td>3.650000</td>\n",
       "      <td>1.619758e+09</td>\n",
       "    </tr>\n",
       "    <tr>\n",
       "      <th>50%</th>\n",
       "      <td>22.426100</td>\n",
       "      <td>29.809250</td>\n",
       "      <td>66.000000</td>\n",
       "      <td>74.000000</td>\n",
       "      <td>60.500000</td>\n",
       "      <td>6.365000</td>\n",
       "      <td>1.619758e+09</td>\n",
       "    </tr>\n",
       "    <tr>\n",
       "      <th>75%</th>\n",
       "      <td>47.923625</td>\n",
       "      <td>101.136025</td>\n",
       "      <td>78.040000</td>\n",
       "      <td>86.000000</td>\n",
       "      <td>90.000000</td>\n",
       "      <td>9.260000</td>\n",
       "      <td>1.619758e+09</td>\n",
       "    </tr>\n",
       "    <tr>\n",
       "      <th>max</th>\n",
       "      <td>78.218600</td>\n",
       "      <td>179.316700</td>\n",
       "      <td>101.800000</td>\n",
       "      <td>100.000000</td>\n",
       "      <td>100.000000</td>\n",
       "      <td>29.590000</td>\n",
       "      <td>1.619758e+09</td>\n",
       "    </tr>\n",
       "  </tbody>\n",
       "</table>\n",
       "</div>"
      ],
      "text/plain": [
       "              Lat         Lng    Max_Temp    Humidity  Cloudiness  Wind_Speed  \\\n",
       "count  560.000000  560.000000  560.000000  560.000000  560.000000  560.000000   \n",
       "mean    19.793239   24.165898   62.509768   69.042857   53.008929    7.258518   \n",
       "std     33.259676   88.991416   19.037508   22.978989   38.093308    4.814163   \n",
       "min    -54.800000 -179.166700   13.780000    7.000000    0.000000    0.220000   \n",
       "25%     -8.111775  -53.201425   48.182500   58.000000   15.000000    3.650000   \n",
       "50%     22.426100   29.809250   66.000000   74.000000   60.500000    6.365000   \n",
       "75%     47.923625  101.136025   78.040000   86.000000   90.000000    9.260000   \n",
       "max     78.218600  179.316700  101.800000  100.000000  100.000000   29.590000   \n",
       "\n",
       "               Date  \n",
       "count  5.600000e+02  \n",
       "mean   1.619758e+09  \n",
       "std    9.710903e+01  \n",
       "min    1.619757e+09  \n",
       "25%    1.619758e+09  \n",
       "50%    1.619758e+09  \n",
       "75%    1.619758e+09  \n",
       "max    1.619758e+09  "
      ]
     },
     "execution_count": 5,
     "metadata": {},
     "output_type": "execute_result"
    }
   ],
   "source": [
    "summary_all=weather_df.describe()\n",
    "summary_all"
   ]
  },
  {
   "cell_type": "markdown",
   "metadata": {},
   "source": [
    "## Inspect the data and remove the cities where the humidity > 100%.\n",
    "----\n",
    "Skip this step if there are no cities that have humidity > 100%. "
   ]
  },
  {
   "cell_type": "code",
   "execution_count": 6,
   "metadata": {},
   "outputs": [],
   "source": [
    "num_hum_gret_100 = len(weather_df.loc[weather_df['Humidity']<=100])\n"
   ]
  },
  {
   "cell_type": "code",
   "execution_count": 7,
   "metadata": {},
   "outputs": [
    {
     "data": {
      "text/html": [
       "<div>\n",
       "<style scoped>\n",
       "    .dataframe tbody tr th:only-of-type {\n",
       "        vertical-align: middle;\n",
       "    }\n",
       "\n",
       "    .dataframe tbody tr th {\n",
       "        vertical-align: top;\n",
       "    }\n",
       "\n",
       "    .dataframe thead th {\n",
       "        text-align: right;\n",
       "    }\n",
       "</style>\n",
       "<table border=\"1\" class=\"dataframe\">\n",
       "  <thead>\n",
       "    <tr style=\"text-align: right;\">\n",
       "      <th></th>\n",
       "      <th>Lat</th>\n",
       "      <th>Lng</th>\n",
       "      <th>Max_Temp</th>\n",
       "      <th>Humidity</th>\n",
       "      <th>Cloudiness</th>\n",
       "      <th>Wind_Speed</th>\n",
       "      <th>Date</th>\n",
       "    </tr>\n",
       "  </thead>\n",
       "  <tbody>\n",
       "    <tr>\n",
       "      <th>count</th>\n",
       "      <td>560.000000</td>\n",
       "      <td>560.000000</td>\n",
       "      <td>560.000000</td>\n",
       "      <td>560.000000</td>\n",
       "      <td>560.000000</td>\n",
       "      <td>560.000000</td>\n",
       "      <td>5.600000e+02</td>\n",
       "    </tr>\n",
       "    <tr>\n",
       "      <th>mean</th>\n",
       "      <td>19.793239</td>\n",
       "      <td>24.165898</td>\n",
       "      <td>62.509768</td>\n",
       "      <td>69.042857</td>\n",
       "      <td>53.008929</td>\n",
       "      <td>7.258518</td>\n",
       "      <td>1.619758e+09</td>\n",
       "    </tr>\n",
       "    <tr>\n",
       "      <th>std</th>\n",
       "      <td>33.259676</td>\n",
       "      <td>88.991416</td>\n",
       "      <td>19.037508</td>\n",
       "      <td>22.978989</td>\n",
       "      <td>38.093308</td>\n",
       "      <td>4.814163</td>\n",
       "      <td>9.710903e+01</td>\n",
       "    </tr>\n",
       "    <tr>\n",
       "      <th>min</th>\n",
       "      <td>-54.800000</td>\n",
       "      <td>-179.166700</td>\n",
       "      <td>13.780000</td>\n",
       "      <td>7.000000</td>\n",
       "      <td>0.000000</td>\n",
       "      <td>0.220000</td>\n",
       "      <td>1.619757e+09</td>\n",
       "    </tr>\n",
       "    <tr>\n",
       "      <th>25%</th>\n",
       "      <td>-8.111775</td>\n",
       "      <td>-53.201425</td>\n",
       "      <td>48.182500</td>\n",
       "      <td>58.000000</td>\n",
       "      <td>15.000000</td>\n",
       "      <td>3.650000</td>\n",
       "      <td>1.619758e+09</td>\n",
       "    </tr>\n",
       "    <tr>\n",
       "      <th>50%</th>\n",
       "      <td>22.426100</td>\n",
       "      <td>29.809250</td>\n",
       "      <td>66.000000</td>\n",
       "      <td>74.000000</td>\n",
       "      <td>60.500000</td>\n",
       "      <td>6.365000</td>\n",
       "      <td>1.619758e+09</td>\n",
       "    </tr>\n",
       "    <tr>\n",
       "      <th>75%</th>\n",
       "      <td>47.923625</td>\n",
       "      <td>101.136025</td>\n",
       "      <td>78.040000</td>\n",
       "      <td>86.000000</td>\n",
       "      <td>90.000000</td>\n",
       "      <td>9.260000</td>\n",
       "      <td>1.619758e+09</td>\n",
       "    </tr>\n",
       "    <tr>\n",
       "      <th>max</th>\n",
       "      <td>78.218600</td>\n",
       "      <td>179.316700</td>\n",
       "      <td>101.800000</td>\n",
       "      <td>100.000000</td>\n",
       "      <td>100.000000</td>\n",
       "      <td>29.590000</td>\n",
       "      <td>1.619758e+09</td>\n",
       "    </tr>\n",
       "  </tbody>\n",
       "</table>\n",
       "</div>"
      ],
      "text/plain": [
       "              Lat         Lng    Max_Temp    Humidity  Cloudiness  Wind_Speed  \\\n",
       "count  560.000000  560.000000  560.000000  560.000000  560.000000  560.000000   \n",
       "mean    19.793239   24.165898   62.509768   69.042857   53.008929    7.258518   \n",
       "std     33.259676   88.991416   19.037508   22.978989   38.093308    4.814163   \n",
       "min    -54.800000 -179.166700   13.780000    7.000000    0.000000    0.220000   \n",
       "25%     -8.111775  -53.201425   48.182500   58.000000   15.000000    3.650000   \n",
       "50%     22.426100   29.809250   66.000000   74.000000   60.500000    6.365000   \n",
       "75%     47.923625  101.136025   78.040000   86.000000   90.000000    9.260000   \n",
       "max     78.218600  179.316700  101.800000  100.000000  100.000000   29.590000   \n",
       "\n",
       "               Date  \n",
       "count  5.600000e+02  \n",
       "mean   1.619758e+09  \n",
       "std    9.710903e+01  \n",
       "min    1.619757e+09  \n",
       "25%    1.619758e+09  \n",
       "50%    1.619758e+09  \n",
       "75%    1.619758e+09  \n",
       "max    1.619758e+09  "
      ]
     },
     "execution_count": 7,
     "metadata": {},
     "output_type": "execute_result"
    }
   ],
   "source": [
    "num_hum_gret_100 = len(weather_df.loc[weather_df['Humidity']<=100])\n",
    "\n",
    "if num_hum_gret_100 > 0:\n",
    "    weather_hum_df = weather_df.loc[weather_df['Humidity']<=100]\n",
    "    summary_all=weather_hum_df.describe()\n",
    "    \n",
    "summary_all\n"
   ]
  },
  {
   "cell_type": "code",
   "execution_count": 8,
   "metadata": {},
   "outputs": [
    {
     "data": {
      "text/plain": [
       "Int64Index([], dtype='int64')"
      ]
     },
     "execution_count": 8,
     "metadata": {},
     "output_type": "execute_result"
    }
   ],
   "source": [
    "#  Get the indices of cities that have humidity over 100%.\n",
    "\n",
    "humidity_index = weather_df[weather_df['Humidity'] > 100].index\n",
    "humidity_index"
   ]
  },
  {
   "cell_type": "code",
   "execution_count": 9,
   "metadata": {},
   "outputs": [
    {
     "data": {
      "text/html": [
       "<div>\n",
       "<style scoped>\n",
       "    .dataframe tbody tr th:only-of-type {\n",
       "        vertical-align: middle;\n",
       "    }\n",
       "\n",
       "    .dataframe tbody tr th {\n",
       "        vertical-align: top;\n",
       "    }\n",
       "\n",
       "    .dataframe thead th {\n",
       "        text-align: right;\n",
       "    }\n",
       "</style>\n",
       "<table border=\"1\" class=\"dataframe\">\n",
       "  <thead>\n",
       "    <tr style=\"text-align: right;\">\n",
       "      <th></th>\n",
       "      <th>City</th>\n",
       "      <th>Lat</th>\n",
       "      <th>Lng</th>\n",
       "      <th>Max_Temp</th>\n",
       "      <th>Humidity</th>\n",
       "      <th>Cloudiness</th>\n",
       "      <th>Wind_Speed</th>\n",
       "      <th>Country</th>\n",
       "      <th>Date</th>\n",
       "    </tr>\n",
       "  </thead>\n",
       "  <tbody>\n",
       "    <tr>\n",
       "      <th>0</th>\n",
       "      <td>coihaique</td>\n",
       "      <td>-45.5752</td>\n",
       "      <td>-72.0662</td>\n",
       "      <td>48.00</td>\n",
       "      <td>95</td>\n",
       "      <td>88</td>\n",
       "      <td>4.70</td>\n",
       "      <td>CL</td>\n",
       "      <td>1619757774</td>\n",
       "    </tr>\n",
       "    <tr>\n",
       "      <th>1</th>\n",
       "      <td>punta arenas</td>\n",
       "      <td>-53.1500</td>\n",
       "      <td>-70.9167</td>\n",
       "      <td>42.80</td>\n",
       "      <td>93</td>\n",
       "      <td>90</td>\n",
       "      <td>5.75</td>\n",
       "      <td>CL</td>\n",
       "      <td>1619757701</td>\n",
       "    </tr>\n",
       "    <tr>\n",
       "      <th>2</th>\n",
       "      <td>mataura</td>\n",
       "      <td>-46.1927</td>\n",
       "      <td>168.8643</td>\n",
       "      <td>53.01</td>\n",
       "      <td>72</td>\n",
       "      <td>24</td>\n",
       "      <td>10.00</td>\n",
       "      <td>NZ</td>\n",
       "      <td>1619757689</td>\n",
       "    </tr>\n",
       "    <tr>\n",
       "      <th>3</th>\n",
       "      <td>bengkulu</td>\n",
       "      <td>-3.8004</td>\n",
       "      <td>102.2655</td>\n",
       "      <td>81.64</td>\n",
       "      <td>78</td>\n",
       "      <td>98</td>\n",
       "      <td>5.66</td>\n",
       "      <td>ID</td>\n",
       "      <td>1619757722</td>\n",
       "    </tr>\n",
       "    <tr>\n",
       "      <th>4</th>\n",
       "      <td>cape town</td>\n",
       "      <td>-33.9258</td>\n",
       "      <td>18.4232</td>\n",
       "      <td>57.99</td>\n",
       "      <td>77</td>\n",
       "      <td>20</td>\n",
       "      <td>12.66</td>\n",
       "      <td>ZA</td>\n",
       "      <td>1619757496</td>\n",
       "    </tr>\n",
       "  </tbody>\n",
       "</table>\n",
       "</div>"
      ],
      "text/plain": [
       "           City      Lat       Lng  Max_Temp  Humidity  Cloudiness  \\\n",
       "0     coihaique -45.5752  -72.0662     48.00        95          88   \n",
       "1  punta arenas -53.1500  -70.9167     42.80        93          90   \n",
       "2       mataura -46.1927  168.8643     53.01        72          24   \n",
       "3      bengkulu  -3.8004  102.2655     81.64        78          98   \n",
       "4     cape town -33.9258   18.4232     57.99        77          20   \n",
       "\n",
       "   Wind_Speed Country        Date  \n",
       "0        4.70      CL  1619757774  \n",
       "1        5.75      CL  1619757701  \n",
       "2       10.00      NZ  1619757689  \n",
       "3        5.66      ID  1619757722  \n",
       "4       12.66      ZA  1619757496  "
      ]
     },
     "execution_count": 9,
     "metadata": {},
     "output_type": "execute_result"
    }
   ],
   "source": [
    "# Make a new DataFrame equal to the city data to drop all humidity outliers by index.\n",
    "# Passing \"inplace=False\" will make a copy of the city_data DataFrame, which we call \"clean_city_data\".\n",
    "\n",
    "clean_city_data = weather_df.drop(humidity_index, inplace = False)\n",
    "clean_city_data.head()"
   ]
  },
  {
   "cell_type": "code",
   "execution_count": null,
   "metadata": {},
   "outputs": [],
   "source": [
    "\n"
   ]
  },
  {
   "cell_type": "markdown",
   "metadata": {},
   "source": [
    "## Plotting the Data\n",
    "* Use proper labeling of the plots using plot titles (including date of analysis) and axes labels.\n",
    "* Save the plotted figures as .pngs."
   ]
  },
  {
   "cell_type": "markdown",
   "metadata": {},
   "source": [
    "## Latitude vs. Temperature Plot"
   ]
  },
  {
   "cell_type": "code",
   "execution_count": 38,
   "metadata": {},
   "outputs": [
    {
     "data": {
      "image/png": "[encoded data removed]",
      "text/plain": [
       "<Figure size 432x288 with 1 Axes>"
      ]
     },
     "metadata": {
      "needs_background": "light"
     },
     "output_type": "display_data"
    }
   ],
   "source": [
    "\n",
    "timestamp = clean_city_data.Date[0]\n",
    "dt_object = datetime.fromtimestamp(timestamp)\n",
    "year = dt_object.year\n",
    "month= dt_object.month\n",
    "day= dt_object.day\n",
    "date = str(month) + \"/\" + str(day) + \"/\" + str(year)\n",
    "\n",
    "x_axis = clean_city_data.Lat\n",
    "y_axis = clean_city_data.Max_Temp\n",
    "plt.scatter(x_axis, y_axis, marker=\"o\", facecolors=\"lightblue\", edgecolors=\"black\")\n",
    "plt.title(f\"City Latitude Vs Max Temperature ({date})\" )\n",
    "plt.xlabel(\"Latitude\")\n",
    "plt.ylabel(\"Max Temperature (F)\")\n",
    "plt.savefig('../output_data/Fig01.png')\n",
    "plt.show()"
   ]
  },
  {
   "cell_type": "markdown",
   "metadata": {
    "scrolled": true
   },
   "source": [
    "The map is showing max temperature of a city related to the latitude. The cities around latitude 30 have the max temperature around 100."
   ]
  },
  {
   "cell_type": "markdown",
   "metadata": {},
   "source": [
    "## Latitude vs. Humidity Plot"
   ]
  },
  {
   "cell_type": "code",
   "execution_count": 39,
   "metadata": {},
   "outputs": [
    {
     "data": {
      "image/png": "[encoded data removed]",
      "text/plain": [
       "<Figure size 432x288 with 1 Axes>"
      ]
     },
     "metadata": {
      "needs_background": "light"
     },
     "output_type": "display_data"
    }
   ],
   "source": [
    "x_axis = clean_city_data.Lat\n",
    "y_axis = clean_city_data.Humidity\n",
    "plt.scatter(x_axis, y_axis, marker=\"o\", facecolors=\"lightblue\", edgecolors=\"black\")\n",
    "plt.title(f\"City Latitude Vs Humidity ({date})\")\n",
    "plt.xlabel(\"Latitude\")\n",
    "plt.ylabel(\"Humidity\")\n",
    "plt.savefig('../output_data/Fig02.png')\n",
    "plt.show()"
   ]
  },
  {
   "cell_type": "markdown",
   "metadata": {},
   "source": [
    "The map is showing that the humidity of a city is not related to the latitude."
   ]
  },
  {
   "cell_type": "markdown",
   "metadata": {},
   "source": [
    "## Latitude vs. Cloudiness Plot"
   ]
  },
  {
   "cell_type": "code",
   "execution_count": 40,
   "metadata": {},
   "outputs": [
    {
     "data": {
      "image/png": "[encoded data removed]",
      "text/plain": [
       "<Figure size 432x288 with 1 Axes>"
      ]
     },
     "metadata": {
      "needs_background": "light"
     },
     "output_type": "display_data"
    }
   ],
   "source": [
    "x_axis = clean_city_data.Lat\n",
    "y_axis = clean_city_data.Cloudiness\n",
    "plt.scatter(x_axis, y_axis, marker=\"o\", facecolors=\"lightblue\", edgecolors=\"black\")\n",
    "plt.title(f\"City Latitude Vs Cloudiness ({date})\")\n",
    "plt.xlabel(\"Latitude\")\n",
    "plt.ylabel(\"Cloudiness\")\n",
    "plt.savefig('../output_data/Fig03.png')\n",
    "plt.show()"
   ]
  },
  {
   "cell_type": "markdown",
   "metadata": {},
   "source": [
    "The map is showing that the cloudiness in a city is not related to the latitude."
   ]
  },
  {
   "cell_type": "markdown",
   "metadata": {},
   "source": [
    "## Latitude vs. Wind Speed Plot"
   ]
  },
  {
   "cell_type": "code",
   "execution_count": 41,
   "metadata": {},
   "outputs": [
    {
     "data": {
      "image/png": "[encoded data removed]",
      "text/plain": [
       "<Figure size 432x288 with 1 Axes>"
      ]
     },
     "metadata": {
      "needs_background": "light"
     },
     "output_type": "display_data"
    }
   ],
   "source": [
    "x_axis = clean_city_data.Lat\n",
    "y_axis = clean_city_data.Wind_Speed\n",
    "plt.scatter(x_axis, y_axis, marker=\"o\", facecolors=\"lightblue\", edgecolors=\"black\")\n",
    "plt.title(f\"City Latitude Vs Wind Speed ({date})\")\n",
    "plt.xlabel(\"Latitude\")\n",
    "plt.ylabel(\"Wind_Speed (mph)\")\n",
    "plt.savefig('../output_data/Fig04.png')\n",
    "plt.show()"
   ]
  },
  {
   "cell_type": "markdown",
   "metadata": {},
   "source": [
    "The map is showing that the wind speed in a city is not related to the latitude."
   ]
  },
  {
   "cell_type": "markdown",
   "metadata": {},
   "source": [
    "## Linear Regression"
   ]
  },
  {
   "cell_type": "code",
   "execution_count": 29,
   "metadata": {},
   "outputs": [],
   "source": [
    "clean_city_data_north = clean_city_data.loc[weather_df['Lat'] >= 0 ]\n",
    "clean_city_data_south = clean_city_data.loc[weather_df['Lat'] < 0 ]\n"
   ]
  },
  {
   "cell_type": "markdown",
   "metadata": {},
   "source": [
    "####  Northern Hemisphere - Max Temp vs. Latitude Linear Regression"
   ]
  },
  {
   "cell_type": "code",
   "execution_count": 42,
   "metadata": {},
   "outputs": [
    {
     "name": "stdout",
     "output_type": "stream",
     "text": [
      "The r-value is: -0.88\n"
     ]
    },
    {
     "data": {
      "image/png": "[encoded data removed]",
      "text/plain": [
       "<Figure size 432x288 with 1 Axes>"
      ]
     },
     "metadata": {
      "needs_background": "light"
     },
     "output_type": "display_data"
    }
   ],
   "source": [
    "x_axis = clean_city_data_north.Lat\n",
    "y_axis = clean_city_data_north.Max_Temp\n",
    "\n",
    "(slope, intercept, rvalue, pvalue, stderr) = linregress(x_axis, y_axis)\n",
    "regress_values = x_axis * slope + intercept\n",
    "line_eq = \"y = \" + str(round(slope,2)) + \"x + \" + str(round(intercept,2))\n",
    "plt.plot(x_axis,regress_values,\"r-\")\n",
    "plt.annotate(line_eq,(5,20),fontsize=15,color=\"red\")\n",
    "\n",
    "plt.scatter(x_axis, y_axis, marker=\"o\", facecolors=\"lightblue\", edgecolors=\"black\")\n",
    "plt.xlabel(\"Latitude\")\n",
    "plt.ylabel(\"Max Temperature (F)\")\n",
    "plt.title(f\"Northern Hemisphere - Max Temp vs. Latitude ({date})\" )\n",
    "print(f\"The r-value is: {round(rvalue,2)}\")\n",
    "plt.savefig('../output_data/Fig05.png')\n",
    "plt.show()"
   ]
  },
  {
   "cell_type": "markdown",
   "metadata": {},
   "source": [
    "There is a strong correlation between latitude and max temperature. \n",
    "For the northern hemisphere, the max temperature is less than 20 when the latitude is in higher than 70. "
   ]
  },
  {
   "cell_type": "markdown",
   "metadata": {},
   "source": [
    "####  Southern Hemisphere - Max Temp vs. Latitude Linear Regression"
   ]
  },
  {
   "cell_type": "code",
   "execution_count": 43,
   "metadata": {},
   "outputs": [
    {
     "name": "stdout",
     "output_type": "stream",
     "text": [
      "The r-value is: 0.63\n"
     ]
    },
    {
     "data": {
      "image/png": "[encoded data removed]",
      "text/plain": [
       "<Figure size 432x288 with 1 Axes>"
      ]
     },
     "metadata": {
      "needs_background": "light"
     },
     "output_type": "display_data"
    }
   ],
   "source": [
    "x_axis = clean_city_data_south.Lat\n",
    "y_axis = clean_city_data_south.Max_Temp\n",
    "\n",
    "(slope, intercept, rvalue, pvalue, stderr) = linregress(x_axis, y_axis)\n",
    "regress_values = x_axis * slope + intercept\n",
    "line_eq = \"y = \" + str(round(slope,2)) + \"x + \" + str(round(intercept,2))\n",
    "plt.plot(x_axis,regress_values,\"r-\")\n",
    "plt.annotate(line_eq,(-55,85),fontsize=15,color=\"red\")\n",
    "\n",
    "plt.scatter(x_axis, y_axis, marker=\"o\", facecolors=\"lightblue\", edgecolors=\"black\")\n",
    "plt.xlabel(\"Latitude\")\n",
    "plt.ylabel(\"Max Temperature (F)\")\n",
    "plt.title(f\"Southern Hemisphere - Max Temp vs. Latitude ({date})\" )\n",
    "print(f\"The r-value is: {round(rvalue,2)}\")\n",
    "plt.savefig('../output_data/Fig06.png')\n",
    "plt.show()"
   ]
  },
  {
   "cell_type": "markdown",
   "metadata": {},
   "source": [
    "There is a strong correlation between latitude and max temperature. \n",
    "For the southern hemisphere, the max temperature is high when the latitude is close to zero \n",
    "for the majority of the cities. "
   ]
  },
  {
   "cell_type": "markdown",
   "metadata": {},
   "source": [
    "####  Northern Hemisphere - Humidity (%) vs. Latitude Linear Regression"
   ]
  },
  {
   "cell_type": "code",
   "execution_count": 44,
   "metadata": {},
   "outputs": [
    {
     "name": "stdout",
     "output_type": "stream",
     "text": [
      "The r-value is: 0.24\n"
     ]
    },
    {
     "data": {
      "image/png": "[encoded data removed]",
      "text/plain": [
       "<Figure size 432x288 with 1 Axes>"
      ]
     },
     "metadata": {
      "needs_background": "light"
     },
     "output_type": "display_data"
    }
   ],
   "source": [
    "x_axis = clean_city_data_north.Lat\n",
    "y_axis = clean_city_data_north.Humidity\n",
    "\n",
    "(slope, intercept, rvalue, pvalue, stderr) = linregress(x_axis, y_axis)\n",
    "regress_values = x_axis * slope + intercept\n",
    "line_eq = \"y = \" + str(round(slope,2)) + \"x + \" + str(round(intercept,2))\n",
    "plt.plot(x_axis,regress_values,\"r-\")\n",
    "plt.annotate(line_eq,(45,15),fontsize=15,color=\"red\")\n",
    "\n",
    "plt.scatter(x_axis, y_axis, marker=\"o\", facecolors=\"lightblue\", edgecolors=\"black\")\n",
    "plt.xlabel(\"Latitude\")\n",
    "plt.ylabel(\"Humidity\")\n",
    "plt.title(f\"Northern Hemisphere - Humidity (%) vs. Latitude ({date})\" )\n",
    "print(f\"The r-value is: {round(rvalue,2)}\")\n",
    "plt.savefig('../output_data/Fig07.png')\n",
    "plt.show()"
   ]
  },
  {
   "cell_type": "markdown",
   "metadata": {},
   "source": [
    "There is a weak correlation between humidity and latitude."
   ]
  },
  {
   "cell_type": "markdown",
   "metadata": {},
   "source": [
    "####  Southern Hemisphere - Humidity (%) vs. Latitude Linear Regression"
   ]
  },
  {
   "cell_type": "code",
   "execution_count": 45,
   "metadata": {},
   "outputs": [
    {
     "name": "stdout",
     "output_type": "stream",
     "text": [
      "The r-value is: 0.26\n"
     ]
    },
    {
     "data": {
      "image/png": "[encoded data removed]",
      "text/plain": [
       "<Figure size 432x288 with 1 Axes>"
      ]
     },
     "metadata": {
      "needs_background": "light"
     },
     "output_type": "display_data"
    }
   ],
   "source": [
    "x_axis = clean_city_data_south.Lat\n",
    "y_axis = clean_city_data_south.Humidity\n",
    "\n",
    "(slope, intercept, rvalue, pvalue, stderr) = linregress(x_axis, y_axis)\n",
    "regress_values = x_axis * slope + intercept\n",
    "line_eq = \"y = \" + str(round(slope,2)) + \"x + \" + str(round(intercept,2))\n",
    "plt.plot(x_axis,regress_values,\"r-\")\n",
    "plt.annotate(line_eq,(-55,15),fontsize=15,color=\"red\")\n",
    "\n",
    "plt.scatter(x_axis, y_axis, marker=\"o\", facecolors=\"lightblue\", edgecolors=\"black\")\n",
    "plt.xlabel(\"Latitude\")\n",
    "plt.ylabel(\"Humidity\")\n",
    "plt.title(f\"Southern Hemisphere - Humidity (%) vs. Latitude ({date})\" )\n",
    "print(f\"The r-value is: {round(rvalue,2)}\")\n",
    "plt.savefig('../output_data/Fig08.png')\n",
    "plt.show()"
   ]
  },
  {
   "cell_type": "markdown",
   "metadata": {},
   "source": [
    "There is a weak correlation between humidity and latitude."
   ]
  },
  {
   "cell_type": "markdown",
   "metadata": {},
   "source": [
    "####  Northern Hemisphere - Cloudiness (%) vs. Latitude Linear Regression"
   ]
  },
  {
   "cell_type": "code",
   "execution_count": 46,
   "metadata": {},
   "outputs": [
    {
     "name": "stdout",
     "output_type": "stream",
     "text": [
      "The r-value is: 0.25\n"
     ]
    },
    {
     "data": {
      "image/png": "[encoded data removed]",
      "text/plain": [
       "<Figure size 432x288 with 1 Axes>"
      ]
     },
     "metadata": {
      "needs_background": "light"
     },
     "output_type": "display_data"
    }
   ],
   "source": [
    "x_axis = clean_city_data_north.Lat\n",
    "y_axis = clean_city_data_north.Cloudiness\n",
    "\n",
    "(slope, intercept, rvalue, pvalue, stderr) = linregress(x_axis, y_axis)\n",
    "regress_values = x_axis * slope + intercept\n",
    "line_eq = \"y = \" + str(round(slope,2)) + \"x + \" + str(round(intercept,2))\n",
    "plt.plot(x_axis,regress_values,\"r-\")\n",
    "plt.annotate(line_eq,(40,10),fontsize=15,color=\"red\")\n",
    "\n",
    "\n",
    "plt.scatter(x_axis, y_axis, marker=\"o\", facecolors=\"lightblue\", edgecolors=\"black\")\n",
    "plt.xlabel(\"Latitude\")\n",
    "plt.ylabel(\"Cloudiness\")\n",
    "plt.title(f\"Northern Hemisphere - Cloudiness (%) vs. Latitude ({date})\" )\n",
    "print(f\"The r-value is: {round(rvalue,2)}\")\n",
    "plt.savefig('../output_data/Fig09.png')\n",
    "plt.show()\n"
   ]
  },
  {
   "cell_type": "markdown",
   "metadata": {},
   "source": [
    "There is a weak correlation between cloudiness and latitude."
   ]
  },
  {
   "cell_type": "markdown",
   "metadata": {},
   "source": [
    "####  Southern Hemisphere - Cloudiness (%) vs. Latitude Linear Regression"
   ]
  },
  {
   "cell_type": "code",
   "execution_count": 47,
   "metadata": {},
   "outputs": [
    {
     "name": "stdout",
     "output_type": "stream",
     "text": [
      "The r-value is: 0.23\n"
     ]
    },
    {
     "data": {
      "image/png": "[encoded data removed]",
      "text/plain": [
       "<Figure size 432x288 with 1 Axes>"
      ]
     },
     "metadata": {
      "needs_background": "light"
     },
     "output_type": "display_data"
    }
   ],
   "source": [
    "x_axis = clean_city_data_south.Lat\n",
    "y_axis = clean_city_data_south.Cloudiness\n",
    "\n",
    "(slope, intercept, rvalue, pvalue, stderr) = linregress(x_axis, y_axis)\n",
    "regress_values = x_axis * slope + intercept\n",
    "line_eq = \"y = \" + str(round(slope,2)) + \"x + \" + str(round(intercept,2))\n",
    "plt.plot(x_axis,regress_values,\"r-\")\n",
    "plt.annotate(line_eq,(-50,61),fontsize=15,color=\"red\")\n",
    "\n",
    "\n",
    "plt.scatter(x_axis, y_axis, marker=\"o\", facecolors=\"lightblue\", edgecolors=\"black\")\n",
    "plt.xlabel(\"Latitude\")\n",
    "plt.ylabel(\"Cloudiness\")\n",
    "plt.title(f\"Southern Hemisphere - Cloudiness (%) vs. Latitude ({date})\" )\n",
    "print(f\"The r-value is: {round(rvalue,2)}\")\n",
    "plt.savefig('../output_data/Fig10.png')\n",
    "plt.show()\n"
   ]
  },
  {
   "cell_type": "markdown",
   "metadata": {},
   "source": [
    "There is a weak correlation between cloudiness and latitude."
   ]
  },
  {
   "cell_type": "markdown",
   "metadata": {},
   "source": [
    "####  Northern Hemisphere - Wind Speed (mph) vs. Latitude Linear Regression"
   ]
  },
  {
   "cell_type": "code",
   "execution_count": 48,
   "metadata": {},
   "outputs": [
    {
     "name": "stdout",
     "output_type": "stream",
     "text": [
      "The r-value is: 0.15\n"
     ]
    },
    {
     "data": {
      "image/png": "[encoded data removed]",
      "text/plain": [
       "<Figure size 432x288 with 1 Axes>"
      ]
     },
     "metadata": {
      "needs_background": "light"
     },
     "output_type": "display_data"
    }
   ],
   "source": [
    "x_axis = clean_city_data_north.Lat\n",
    "y_axis = clean_city_data_north.Wind_Speed\n",
    "\n",
    "(slope, intercept, rvalue, pvalue, stderr) = linregress(x_axis, y_axis)\n",
    "regress_values = x_axis * slope + intercept\n",
    "line_eq = \"y = \" + str(round(slope,2)) + \"x + \" + str(round(intercept,2))\n",
    "plt.plot(x_axis,regress_values,\"r-\")\n",
    "plt.annotate(line_eq,(40,22),fontsize=15,color=\"red\")\n",
    "\n",
    "plt.scatter(x_axis, y_axis, marker=\"o\", facecolors=\"lightblue\", edgecolors=\"black\")\n",
    "plt.xlabel(\"Latitude\")\n",
    "plt.ylabel(\"Wind_Speed (mph)\")\n",
    "plt.title(f\"Northern Hemisphere - Wind Speed (mph) vs. Latitude ({date})\" )\n",
    "print(f\"The r-value is: {round(rvalue,2)}\")\n",
    "plt.savefig('../output_data/Fig11.png')\n",
    "plt.show()"
   ]
  },
  {
   "cell_type": "markdown",
   "metadata": {},
   "source": [
    "There is a very weak correlation between wind speeds and latitude."
   ]
  },
  {
   "cell_type": "markdown",
   "metadata": {},
   "source": [
    "####  Southern Hemisphere - Wind Speed (mph) vs. Latitude Linear Regression"
   ]
  },
  {
   "cell_type": "code",
   "execution_count": 49,
   "metadata": {},
   "outputs": [
    {
     "name": "stdout",
     "output_type": "stream",
     "text": [
      "The r-value is: -0.29\n"
     ]
    },
    {
     "data": {
      "image/png": "[encoded data removed]",
      "text/plain": [
       "<Figure size 432x288 with 1 Axes>"
      ]
     },
     "metadata": {
      "needs_background": "light"
     },
     "output_type": "display_data"
    }
   ],
   "source": [
    "x_axis = clean_city_data_south.Lat\n",
    "y_axis = clean_city_data_south.Wind_Speed\n",
    "\n",
    "(slope, intercept, rvalue, pvalue, stderr) = linregress(x_axis, y_axis)\n",
    "regress_values = x_axis * slope + intercept\n",
    "line_eq = \"y = \" + str(round(slope,2)) + \"x + \" + str(round(intercept,2))\n",
    "plt.plot(x_axis,regress_values,\"r-\")\n",
    "plt.annotate(line_eq,(-50,15),fontsize=15,color=\"red\")\n",
    "\n",
    "plt.scatter(x_axis, y_axis, marker=\"o\", facecolors=\"lightblue\", edgecolors=\"black\")\n",
    "plt.xlabel(\"Latitude\")\n",
    "plt.ylabel(\"Wind_Speed (mph)\")\n",
    "plt.title(f\"Southern Hemisphere - Wind Speed (mph) vs. Latitude ({date})\" )\n",
    "print(f\"The r-value is: {round(rvalue,2)}\")\n",
    "plt.savefig('../output_data/Fig12.png')\n",
    "plt.show()"
   ]
  },
  {
   "cell_type": "markdown",
   "metadata": {},
   "source": [
    "There is a very weak correlation between wind speeds and latitude."
   ]
  }
 ],
 "metadata": {
  "anaconda-cloud": {},
  "kernel_info": {
   "name": "python3"
  },
  "kernelspec": {
   "display_name": "Python 3",
   "language": "python",
   "name": "python3"
  },
  "language_info": {
   "codemirror_mode": {
    "name": "ipython",
    "version": 3
   },
   "file_extension": ".py",
   "mimetype": "text/x-python",
   "name": "python",
   "nbconvert_exporter": "python",
   "pygments_lexer": "ipython3",
   "version": "3.8.5"
  },
  "latex_envs": {
   "LaTeX_envs_menu_present": true,
   "autoclose": false,
   "autocomplete": true,
   "bibliofile": "biblio.bib",
   "cite_by": "apalike",
   "current_citInitial": 1,
   "eqLabelWithNumbers": true,
   "eqNumInitial": 1,
   "hotkeys": {
    "equation": "Ctrl-E",
    "itemize": "Ctrl-I"
   },
   "labels_anchors": false,
   "latex_user_defs": false,
   "report_style_numbering": false,
   "user_envs_cfg": false
  },
  "nteract": {
   "version": "0.12.3"
  }
 },
 "nbformat": 4,
 "nbformat_minor": 2
}
